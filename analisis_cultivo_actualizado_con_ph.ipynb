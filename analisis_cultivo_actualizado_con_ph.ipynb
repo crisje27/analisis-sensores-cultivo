{
 "cells": [
  {
   "cell_type": "markdown",
   "id": "f31ba867",
   "metadata": {},
   "source": [
    "# Análisis Inteligente de Condiciones de Cultivo con Python\n",
    "### Autor: Cristian Rodríguez\n",
    "\n",
    "Este notebook simula un caso real de análisis de datos de sensores agrícolas, donde se detectan eventos de estrés térmico\n",
    "en base a condiciones de temperatura y humedad. Utiliza herramientas de ciencia de datos como Pandas, Seaborn y Matplotlib\n",
    "para explorar, visualizar y generar alertas automatizadas. Está desarrollado como parte de mi formación como Ingeniero Electrónico\n",
    "con orientación en Inteligencia Artificial aplicada al agro."
   ]
  },
  {
   "cell_type": "code",
   "execution_count": null,
   "id": "3bbd5f14",
   "metadata": {},
   "outputs": [],
   "source": [
    "# 1. Importar librerías necesarias\n",
    "import pandas as pd\n",
    "import matplotlib.pyplot as plt\n",
    "import seaborn as sns"
   ]
  },
  {
   "cell_type": "code",
   "execution_count": null,
   "id": "ed585b1d",
   "metadata": {},
   "outputs": [],
   "source": [
    "# 2. Cargar dataset de sensores\n",
    "df = pd.read_csv(\"sensores_cultivo.csv\")\n",
    "df.head()"
   ]
  },
  {
   "cell_type": "code",
   "execution_count": null,
   "id": "ff3ab473",
   "metadata": {},
   "outputs": [],
   "source": [
    "# 3. Estadísticas descriptivas\n",
    "print(\"Columnas:\", df.columns.tolist())\n",
    "print(\"Dimensiones del dataset:\", df.shape)\n",
    "df.describe()"
   ]
  },
  {
   "cell_type": "code",
   "execution_count": null,
   "id": "a379ee7a",
   "metadata": {},
   "outputs": [],
   "source": [
    "# 4. Promedios por día\n",
    "df.groupby(\"dia\")[[\"temperatura\", \"humedad\"]].mean()"
   ]
  },
  {
   "cell_type": "code",
   "execution_count": null,
   "id": "822d541f",
   "metadata": {},
   "outputs": [],
   "source": [
    "# 5. Definición de umbrales críticos y creación de etiqueta\n",
    "TEMP_CRITICA = 30\n",
    "HUM_CRITICA = 40\n",
    "df[\"estres_termico\"] = (df[\"temperatura\"] > TEMP_CRITICA) & (df[\"humedad\"] < HUM_CRITICA)"
   ]
  },
  {
   "cell_type": "code",
   "execution_count": null,
   "id": "bf69e8f8",
   "metadata": {},
   "outputs": [],
   "source": [
    "# 6. Visualización: evolución horaria\n",
    "sns.set(style=\"whitegrid\")\n",
    "plt.figure(figsize=(12,6))\n",
    "sns.lineplot(x=\"hora\", y=\"temperatura\", data=df, label=\"Temperatura\", marker=\"o\")\n",
    "sns.lineplot(x=\"hora\", y=\"humedad\", data=df, label=\"Humedad\", marker=\"s\")\n",
    "plt.axhline(TEMP_CRITICA, color='r', linestyle=':', label=\"Límite temperatura\")\n",
    "plt.axhline(HUM_CRITICA, color='b', linestyle='--', label=\"Límite humedad\")\n",
    "plt.title(\"Condiciones del cultivo por hora\")\n",
    "plt.xlabel(\"Hora\")\n",
    "plt.ylabel(\"Valor medido\")\n",
    "plt.legend()\n",
    "plt.grid(True)\n",
    "plt.show()"
   ]
  },
  {
   "cell_type": "code",
   "execution_count": null,
   "id": "df9b4a7d",
   "metadata": {},
   "outputs": [],
   "source": [
    "# 7. Visualización: zonas con estrés térmico\n",
    "plt.figure(figsize=(10,5))\n",
    "sns.scatterplot(x=\"temperatura\", y=\"humedad\", hue=\"estres_termico\", data=df,\n",
    "                palette={True: \"red\", False: \"green\"})\n",
    "plt.title(\"Zonas con estrés térmico\")\n",
    "plt.xlabel(\"Temperatura (°C)\")\n",
    "plt.ylabel(\"Humedad (%)\")\n",
    "plt.grid(True)\n",
    "plt.show()"
   ]
  },
  {
   "cell_type": "code",
   "execution_count": null,
   "id": "e3b40e1b",
   "metadata": {},
   "outputs": [],
   "source": [
    "# 8. Exportar eventos de alerta\n",
    "alertas = df[df[\"estres_termico\"] == True]\n",
    "alertas.to_csv(\"alertas_estres.csv\", index=False)\n",
    "print(f\"Se registraron {len(alertas)} eventos con estrés térmico.\")"
   ]
  },
  {
   "cell_type": "markdown",
   "id": "4467dd36",
   "metadata": {},
   "source": [
    "### ✅ Conclusión\n",
    "Este análisis permite detectar de forma visual y automatizada condiciones críticas en el cultivo, mejorando la toma de decisiones.\n",
    "Puede adaptarse fácilmente a otras variables o escalas productivas. Forma parte de un portafolio profesional orientado a IA aplicada."
   ]
  },
  {
   "cell_type": "markdown",
   "id": "21f034fb",
   "metadata": {},
   "source": [
    "## 📥 Cargar datos actualizados (incluye pH del suelo)"
   ]
  },
  {
   "cell_type": "code",
   "execution_count": null,
   "id": "53092e56",
   "metadata": {},
   "outputs": [],
   "source": [
    "df = pd.read_csv('sensores_cultivo_actualizado.csv')\n",
    "df.head()"
   ]
  },
  {
   "cell_type": "markdown",
   "id": "51fe24bf",
   "metadata": {},
   "source": [
    "## 📊 Estadísticas descriptivas actualizadas"
   ]
  },
  {
   "cell_type": "code",
   "execution_count": null,
   "id": "6c6f8644",
   "metadata": {},
   "outputs": [],
   "source": [
    "df.describe()"
   ]
  },
  {
   "cell_type": "markdown",
   "id": "7ce1da57",
   "metadata": {},
   "source": [
    "## 📈 Visualización completa: Humedad, Temperatura y pH"
   ]
  },
  {
   "cell_type": "code",
   "execution_count": null,
   "id": "1f1db718",
   "metadata": {},
   "outputs": [],
   "source": [
    "plt.figure(figsize=(14, 6))\n",
    "plt.plot(df['Fecha'], df['Temperatura (°C)'], label='🌡️ Temperatura (°C)')\n",
    "plt.plot(df['Fecha'], df['Humedad (%)'], label='💧 Humedad (%)')\n",
    "plt.plot(df['Fecha'], df['pH del Suelo'], label='🧪 pH del Suelo')\n",
    "plt.xlabel('Fecha')\n",
    "plt.ylabel('Valores')\n",
    "plt.title('Variables Agronómicas Relevantes en Cultivo')\n",
    "plt.legend()\n",
    "plt.grid(True)\n",
    "plt.tight_layout()\n",
    "plt.show()"
   ]
  }
 ],
 "metadata": {
  "kernelspec": {
   "display_name": "Python 3",
   "name": "python3"
  }
 },
 "nbformat": 4,
 "nbformat_minor": 5
}
